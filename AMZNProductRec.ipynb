{
 "cells": [
  {
   "cell_type": "code",
   "execution_count": null,
   "metadata": {
    "scrolled": true
   },
   "outputs": [],
   "source": [
    "import pandas as pd\n",
    "import gzip\n",
    "\n",
    "def parse(path):\n",
    "  g = gzip.open(path, 'rb')\n",
    "  for l in g:\n",
    "    yield eval(l)\n",
    "\n",
    "def getDF(path):\n",
    "  i = 0\n",
    "  df = {}\n",
    "  for d in parse(path):\n",
    "    df[i] = d\n",
    "    i += 1\n",
    "  return pd.DataFrame.from_dict(df, orient='index')\n",
    "\n",
    "print(\"here\")\n",
    "pd.options.display.max_colwidth\n",
    "df = getDF('reviews_Baby.json.gz')\n",
    "\n",
    "listofIDs = df.reviewerID.unique()\n",
    "print(\"done\")\n",
    "#print(\"here\")\n",
    "#print(df.loc[df['reviewerID'] == 'A3B7EJRATV46WS'])"
   ]
  },
  {
   "cell_type": "code",
   "execution_count": 5,
   "metadata": {},
   "outputs": [
    {
     "name": "stdout",
     "output_type": "stream",
     "text": [
      "AX0M1Z6ZWO52J\n",
      "531890\n"
     ]
    }
   ],
   "source": [
    "print(listofIDs[1])\n",
    "print(len(listofIDs))"
   ]
  },
  {
   "cell_type": "code",
   "execution_count": null,
   "metadata": {},
   "outputs": [],
   "source": [
    "#for id in listofIDs:\n",
    "    #print(df.loc[df['reviewerID'] == id])"
   ]
  },
  {
   "cell_type": "code",
   "execution_count": 6,
   "metadata": {},
   "outputs": [
    {
     "name": "stdout",
     "output_type": "stream",
     "text": [
      "           reviewerID        asin reviewerName helpful  \\\n",
      "1       AX0M1Z6ZWO52J  0188399399       Ash M.  [1, 1]   \n",
      "627719  AX0M1Z6ZWO52J  B004J7ZLZO       Ash M.  [6, 6]   \n",
      "\n",
      "                                               reviewText  overall  \\\n",
      "1       it came early and was not disappointed. i love...      5.0   \n",
      "627719  you get what you see. its a wonderful set. The...      5.0   \n",
      "\n",
      "               summary  unixReviewTime   reviewTime  \n",
      "1              perfect      1365465600   04 9, 2013  \n",
      "627719  brush and comb      1343433600  07 28, 2012  \n"
     ]
    }
   ],
   "source": [
    "print(df.loc[df['reviewerID'] == 'AX0M1Z6ZWO52J'])"
   ]
  },
  {
   "cell_type": "code",
   "execution_count": 7,
   "metadata": {},
   "outputs": [],
   "source": [
    "test = df.loc[df['reviewerID'] == 'AX0M1Z6ZWO52J']\n"
   ]
  },
  {
   "cell_type": "code",
   "execution_count": 10,
   "metadata": {},
   "outputs": [
    {
     "name": "stdout",
     "output_type": "stream",
     "text": [
      "A3SJDKA31IZ9MK\n"
     ]
    }
   ],
   "source": [
    "print(listofIDs[100])"
   ]
  },
  {
   "cell_type": "code",
   "execution_count": 16,
   "metadata": {},
   "outputs": [],
   "source": [
    "# search product by asin\n",
    "test = df.loc[df['asin'] == 'B004J7ZLZO']\n"
   ]
  },
  {
   "cell_type": "code",
   "execution_count": 17,
   "metadata": {},
   "outputs": [
    {
     "name": "stdout",
     "output_type": "stream",
     "text": [
      "            reviewerID        asin                         reviewerName  \\\n",
      "627713  A31OB72JM5K94M  B004J7ZLZO                           Alice Page   \n",
      "627714  A2PRLVB08C2SC4  B004J7ZLZO                      Amazon Customer   \n",
      "627715  A39G1LIX77NJKO  B004J7ZLZO                      Amazon Customer   \n",
      "627716  A24HTVXU5VLJGH  B004J7ZLZO                                AmraB   \n",
      "627717  A1JBNRBQDSSXYM  B004J7ZLZO                          AngelFish42   \n",
      "627718  A3H02YOGS1AO6D  B004J7ZLZO                                April   \n",
      "627719   AX0M1Z6ZWO52J  B004J7ZLZO                               Ash M.   \n",
      "627720  A3DXRBE3LDUFF0  B004J7ZLZO                       AutumnBreeze83   \n",
      "627721  A3H4PRHZ33L2KU  B004J7ZLZO                               Badbuy   \n",
      "627722  A34NA1VLSOZ2A3  B004J7ZLZO                       Beverly Rutana   \n",
      "627723  A1ONB72XBGE82K  B004J7ZLZO  Book Lover #52 \"reader and teacher\"   \n",
      "627724   ANHR93SS8OMO7  B004J7ZLZO                        Carol Theriot   \n",
      "627725  A3JOXL2AFA26SE  B004J7ZLZO   Catalina A. LaFrance \"ehuanochtli\"   \n",
      "627726  A1DE1MHA6R7B86  B004J7ZLZO                                Chong   \n",
      "627727   A3VLDKOQBE4Z2  B004J7ZLZO                                Cindy   \n",
      "627728  A29CS154RZFCVB  B004J7ZLZO                                danes   \n",
      "627729  A3OJE8ZDF1L61G  B004J7ZLZO                 E. Logan \"justagirl\"   \n",
      "627730  A269WG8C9O2B0C  B004J7ZLZO                         Gee Geronimo   \n",
      "627731  A17GW9GJFPFAHA  B004J7ZLZO                               gleigh   \n",
      "627732  A39KSK8VCZA544  B004J7ZLZO                         I. Ratcliffe   \n",
      "627733   AKCSIG2LHPLET  B004J7ZLZO                        Jennifer Ford   \n",
      "627734  A35EN2E2QZ2TBH  B004J7ZLZO                       Jessica Tucker   \n",
      "627735  A2P29FB5X723PX  B004J7ZLZO                        J. S. Herrick   \n",
      "627736  A2G47CCVN4RF6G  B004J7ZLZO                       katharine uhre   \n",
      "627737  A3UOGHFRHNXAUN  B004J7ZLZO                                 Kesh   \n",
      "627738  A1PQXUPFIUU9ZG  B004J7ZLZO                K. Greene \"MSN, NP-C\"   \n",
      "627739  A2WGCCHCYRPXWT  B004J7ZLZO                K. McMillan \"indkate\"   \n",
      "627740  A1QF8700X6TJLY  B004J7ZLZO                      Kristin Moeller   \n",
      "627741   AR3IHVPWT16V9  B004J7ZLZO                         Krystal Hays   \n",
      "627742   A43U1NCWOG601  B004J7ZLZO                             Kunoichi   \n",
      "...                ...         ...                                  ...   \n",
      "627755   A3I0TO3UBJPJH  B004J7ZLZO          Megan M. Armstrong \"Megbot\"   \n",
      "627756  A253IUJ9KDR0PW  B004J7ZLZO                   Michelle Dollinger   \n",
      "627757   ADF1QXJ5PN7ZU  B004J7ZLZO                             Michelle   \n",
      "627758  A1JJKAM7W7WND4  B004J7ZLZO                                 Mike   \n",
      "627759  A1WYPL0OTLHH7Z  B004J7ZLZO                                  ML5   \n",
      "627760   AMYPOUBAZEJVB  B004J7ZLZO                           M. Oo \"MO\"   \n",
      "627761  A1I2FTZKT1NL2B  B004J7ZLZO                mudslides \"mudslides\"   \n",
      "627762  A14BQ5OXF3ID2C  B004J7ZLZO                              Mugster   \n",
      "627763  A211TLT6IJQDKX  B004J7ZLZO                            NatashaNW   \n",
      "627764   ADIAXS54A263Z  B004J7ZLZO                                Nehal   \n",
      "627765  A3JLAQ1DGYZMOL  B004J7ZLZO                            New mommy   \n",
      "627766  A164BKWDLJ234Y  B004J7ZLZO                            Paige Oli   \n",
      "627767  A3GEHBDR78FONJ  B004J7ZLZO                     Pink Bunny's Mom   \n",
      "627768  A2AI6FCZCUYYU5  B004J7ZLZO                      Professor Chaos   \n",
      "627769  A1Q274QTG4RW5P  B004J7ZLZO                        Rachel Mullen   \n",
      "627770  A15SCMOTV6BHO1  B004J7ZLZO                                RB180   \n",
      "627771   AB2YZA2HLY75H  B004J7ZLZO                                  Reb   \n",
      "627772  A3THR2UWGQNVX4  B004J7ZLZO                                renny   \n",
      "627773  A1F9E39OIL6127  B004J7ZLZO                                Richa   \n",
      "627774  A2V5LXYJAFWTOW  B004J7ZLZO                        Richard Sloan   \n",
      "627775  A1W126JLB1B1Z5  B004J7ZLZO                              Roma321   \n",
      "627776  A1DGYWP8TN1D9I  B004J7ZLZO                             SalsaGal   \n",
      "627777   AFJ9GEXF2T00K  B004J7ZLZO                       SevonV \"S-van\"   \n",
      "627778  A3KOL1FYRGZPGQ  B004J7ZLZO                                   SL   \n",
      "627779  A3T7EKHDQYMY0Y  B004J7ZLZO                             Tamdiego   \n",
      "627780  A2FLXHAEAU6HC5  B004J7ZLZO                               tko411   \n",
      "627781  A2AC68C4B88P6U  B004J7ZLZO                 V. Alapati \"venkata\"   \n",
      "627782   A46WCJ84LSY4D  B004J7ZLZO                              Vanessa   \n",
      "627783  A208WTIFILZ3BS  B004J7ZLZO                             V. Patel   \n",
      "627784  A1034YQV91W2GZ  B004J7ZLZO                      William P. Olka   \n",
      "\n",
      "       helpful                                         reviewText  overall  \\\n",
      "627713  [0, 0]  Haven't needed the comb but the brush is great...      5.0   \n",
      "627714  [0, 0]  A great set bought for our new grandson.  Made...      5.0   \n",
      "627715  [0, 0]  I bought this for my little girl and couldn't ...      5.0   \n",
      "627716  [0, 0]  I love this brush and comb set. My baby has cr...      5.0   \n",
      "627717  [0, 0]  This product is a little heavy but I actually ...      5.0   \n",
      "627718  [0, 0]  This is a nice brush/comb set.  I was looking ...      5.0   \n",
      "627719  [6, 6]  you get what you see. its a wonderful set. The...      5.0   \n",
      "627720  [0, 0]  would have loved to given this a 5 star rating...      1.0   \n",
      "627721  [0, 0]  As mentioned in many other customers' reviews,...      1.0   \n",
      "627722  [0, 0]  My baby had cradle cap for the first few weeks...      5.0   \n",
      "627723  [0, 3]  These will do the job as brush/comb.The handle...      3.0   \n",
      "627724  [0, 0]  I had this same comb and brush set for my daug...      1.0   \n",
      "627725  [4, 4]  The item I received is not at all what I order...      1.0   \n",
      "627726  [0, 0]  i bought this for my new born son, and the bru...      5.0   \n",
      "627727  [0, 0]  It's a cute brush set. I gave it as a gift so ...      5.0   \n",
      "627728  [0, 0]  my little one loves to have his hair brushed w...      5.0   \n",
      "627729  [4, 4]  I don't really use the comb, but the brush get...      5.0   \n",
      "627730  [0, 0]  I don't know why this set is so hard to find b...      5.0   \n",
      "627731  [5, 5]  BabyHaven sends you a completely different set...      1.0   \n",
      "627732  [0, 0]  Cute brush and comb. The brush is soft and bot...      5.0   \n",
      "627733  [0, 0]  I bought this set when my son was a newborn. H...      5.0   \n",
      "627734  [0, 0]  Comb has pliable bristles that are not hard. T...      5.0   \n",
      "627735  [0, 0]  I loved the fact that this was a different col...      5.0   \n",
      "627736  [5, 5]  This set is cheaper in person that it looks on...      1.0   \n",
      "627737  [0, 0]  Right size for soft little heads. We have used...      5.0   \n",
      "627738  [0, 0]  I love that this set doesn't feel cheap and fl...      5.0   \n",
      "627739  [0, 0]  If you need a simple baby brush this is a good...      5.0   \n",
      "627740  [0, 0]  All the brushes that I looked at in stores app...      5.0   \n",
      "627741  [0, 0]  So soft and perfect for newborns. I love the c...      5.0   \n",
      "627742  [1, 1]  Love the brush because it's super soft...., my...      5.0   \n",
      "...        ...                                                ...      ...   \n",
      "627755  [0, 0]  Love it but rating it lower because I got a di...      3.0   \n",
      "627756  [0, 0]  Really simple, useful product. I never underst...      5.0   \n",
      "627757  [0, 0]  decent product and quality is not bad, but the...      3.0   \n",
      "627758  [0, 0]  I attempt to use these to calm the wild infern...      3.0   \n",
      "627759  [0, 0]  I really wanted this set of brush and comb for...      3.0   \n",
      "627760  [0, 0]  We like the color and softness of the brush. W...      5.0   \n",
      "627761  [0, 0]  Eh the brush is good but the comb is terrible ...      3.0   \n",
      "627762  [3, 3]  The brush is very good quality and very soft. ...      5.0   \n",
      "627763  [0, 0]  My baby loves the brush- I think she feels it ...      5.0   \n",
      "627764  [0, 0]  I just received my order yesterday. The brush ...      5.0   \n",
      "627765  [0, 0]  No complaints.  These are cute, a great size f...      5.0   \n",
      "627766  [0, 0]  I recommend this beautiful set to all the moms...      5.0   \n",
      "627767  [8, 8]  My newborn developed a mild case of cradle cap...      5.0   \n",
      "627768  [0, 0]  We purchased this for my 1-year old who was a ...      5.0   \n",
      "627769  [0, 0]  Great product, after I ordered them someone ga...      5.0   \n",
      "627770  [0, 0]  The comb is great.  I like the large rubber gr...      4.0   \n",
      "627771  [0, 0]  The brush was great for removing cradle cap du...      5.0   \n",
      "627772  [0, 0]  This is extremely well made, especially for th...      5.0   \n",
      "627773  [0, 0]  The quality is really good and it does the wor...      5.0   \n",
      "627774  [0, 0]  I like the product and the handles are easy to...      4.0   \n",
      "627775  [5, 6]  BabyHaven actually sent this cheaper version o...      1.0   \n",
      "627776  [0, 0]  I bought these for my daughter. She was born w...      4.0   \n",
      "627777  [0, 0]  Nothing too fancy, but I am glad that I have t...      4.0   \n",
      "627778  [0, 0]  Heavy duty brush and comb. Nice handle to hold...      5.0   \n",
      "627779  [3, 5]  Wonderfully soft brush, I love brushing baby's...      5.0   \n",
      "627780  [0, 0]  The brush is soft and gentle, and we have been...      5.0   \n",
      "627781  [0, 0]  we purchased this for my daughter and have bee...      5.0   \n",
      "627782  [0, 0]  I was somewhat disappointed that brush bristle...      3.0   \n",
      "627783  [0, 0]  Great soft brush for infants. This thing is so...      5.0   \n",
      "627784  [0, 7]  This is a perfect little piggy bank for a litt...      5.0   \n",
      "\n",
      "                                                  summary  unixReviewTime  \\\n",
      "627713                                             Great!      1370649600   \n",
      "627714                       Brush set saft and wonderful      1323302400   \n",
      "627715                                 Love this product!      1332288000   \n",
      "627716                                     Love this set!      1335139200   \n",
      "627717                                          Great set      1348358400   \n",
      "627718                                           Nice set      1353628800   \n",
      "627719                                     brush and comb      1343433600   \n",
      "627720               White and Teal not Green as pictured      1396224000   \n",
      "627721  Stop buying this brush and comb set from BabyH...      1403222400   \n",
      "627722                                        Great brush      1376352000   \n",
      "627723                            strangely hefty handles      1345939200   \n",
      "627724                                    Not as pictured      1392595200   \n",
      "627725                                Not what I ordered!      1378598400   \n",
      "627726                              nice for little baby!      1362009600   \n",
      "627727                                    It's a cute set      1348876800   \n",
      "627728                                        good value.      1369180800   \n",
      "627729                                            perfect      1360713600   \n",
      "627730                                      Bitter sweet!      1379808000   \n",
      "627731                              Item is not as shown.      1375228800   \n",
      "627732                                       Good product      1348790400   \n",
      "627733                                Great comb & brush!      1357171200   \n",
      "627734                                    I love this set      1361836800   \n",
      "627735                          Infant brush and comb set      1384300800   \n",
      "627736                             Don't waste your money      1364083200   \n",
      "627737                          Great for the little ones      1385078400   \n",
      "627738                                      Great Quality      1355616000   \n",
      "627739                                  simple baby brush      1361577600   \n",
      "627740                                      Nice and soft      1400112000   \n",
      "627741                                            So Soft      1361318400   \n",
      "627742                               Brush is super soft!      1338595200   \n",
      "...                                                   ...             ...   \n",
      "627755    Love it but rating it lower because I got a ...      1404864000   \n",
      "627756          Just what my little one's fine hair needs      1348790400   \n",
      "627757                                            Just ok      1376006400   \n",
      "627758                                  Style Inspiration      1357257600   \n",
      "627759                                            Just OK      1358726400   \n",
      "627760                                               Nice      1357603200   \n",
      "627761                                            Just ok      1383436800   \n",
      "627762                                               Good      1364256000   \n",
      "627763                                     Brush is great      1356393600   \n",
      "627764                                       Good quality      1346889600   \n",
      "627765                                               Cute      1337040000   \n",
      "627766                                          Well made      1359504000   \n",
      "627767             Great for Babies with Mild Cradle Cap!      1339891200   \n",
      "627768                                       Good quality      1349568000   \n",
      "627769                              Soft and easy to hold      1361664000   \n",
      "627770                                        Great comb.      1376265600   \n",
      "627771                                       good product      1384819200   \n",
      "627772                                      love this set      1336089600   \n",
      "627773             A real steal if purchased as an add on      1347494400   \n",
      "627774                                            Like it      1356048000   \n",
      "627775                               Not what was ordered      1367539200   \n",
      "627776                          Great comb and brush set!      1358553600   \n",
      "627777                                     Good for price      1368748800   \n",
      "627778                                            Love it      1356048000   \n",
      "627779                                  Wonderfully soft!      1320796800   \n",
      "627780                        Quality product, good value      1363651200   \n",
      "627781    soft bristles and hard comb as and when needed.      1375747200   \n",
      "627782                                        Brush so-so      1352592000   \n",
      "627783                      Great soft brush for infants.      1363651200   \n",
      "627784                            Great little piggy bank      1342915200   \n",
      "\n",
      "         reviewTime  \n",
      "627713   06 8, 2013  \n",
      "627714   12 8, 2011  \n",
      "627715  03 21, 2012  \n",
      "627716  04 23, 2012  \n",
      "627717  09 23, 2012  \n",
      "627718  11 23, 2012  \n",
      "627719  07 28, 2012  \n",
      "627720  03 31, 2014  \n",
      "627721  06 20, 2014  \n",
      "627722  08 13, 2013  \n",
      "627723  08 26, 2012  \n",
      "627724  02 17, 2014  \n",
      "627725   09 8, 2013  \n",
      "627726  02 28, 2013  \n",
      "627727  09 29, 2012  \n",
      "627728  05 22, 2013  \n",
      "627729  02 13, 2013  \n",
      "627730  09 22, 2013  \n",
      "627731  07 31, 2013  \n",
      "627732  09 28, 2012  \n",
      "627733   01 3, 2013  \n",
      "627734  02 26, 2013  \n",
      "627735  11 13, 2013  \n",
      "627736  03 24, 2013  \n",
      "627737  11 22, 2013  \n",
      "627738  12 16, 2012  \n",
      "627739  02 23, 2013  \n",
      "627740  05 15, 2014  \n",
      "627741  02 20, 2013  \n",
      "627742   06 2, 2012  \n",
      "...             ...  \n",
      "627755   07 9, 2014  \n",
      "627756  09 28, 2012  \n",
      "627757   08 9, 2013  \n",
      "627758   01 4, 2013  \n",
      "627759  01 21, 2013  \n",
      "627760   01 8, 2013  \n",
      "627761   11 3, 2013  \n",
      "627762  03 26, 2013  \n",
      "627763  12 25, 2012  \n",
      "627764   09 6, 2012  \n",
      "627765  05 15, 2012  \n",
      "627766  01 30, 2013  \n",
      "627767  06 17, 2012  \n",
      "627768   10 7, 2012  \n",
      "627769  02 24, 2013  \n",
      "627770  08 12, 2013  \n",
      "627771  11 19, 2013  \n",
      "627772   05 4, 2012  \n",
      "627773  09 13, 2012  \n",
      "627774  12 21, 2012  \n",
      "627775   05 3, 2013  \n",
      "627776  01 19, 2013  \n",
      "627777  05 17, 2013  \n",
      "627778  12 21, 2012  \n",
      "627779   11 9, 2011  \n",
      "627780  03 19, 2013  \n",
      "627781   08 6, 2013  \n",
      "627782  11 11, 2012  \n",
      "627783  03 19, 2013  \n",
      "627784  07 22, 2012  \n",
      "\n",
      "[72 rows x 9 columns]\n"
     ]
    }
   ],
   "source": [
    "print(test)"
   ]
  },
  {
   "cell_type": "code",
   "execution_count": 14,
   "metadata": {},
   "outputs": [
    {
     "name": "stdout",
     "output_type": "stream",
     "text": [
      "102    I wanted a calendar for my daughter for 13mont...\n",
      "Name: reviewText, dtype: object\n"
     ]
    }
   ],
   "source": [
    "print(test[\"reviewText\"])"
   ]
  },
  {
   "cell_type": "code",
   "execution_count": 18,
   "metadata": {},
   "outputs": [],
   "source": [
    "test = df.loc[df['reviewerID'] == 'ANHR93SS8OMO7']"
   ]
  },
  {
   "cell_type": "code",
   "execution_count": 19,
   "metadata": {},
   "outputs": [
    {
     "name": "stdout",
     "output_type": "stream",
     "text": [
      "           reviewerID        asin   reviewerName helpful  \\\n",
      "627724  ANHR93SS8OMO7  B004J7ZLZO  Carol Theriot  [0, 0]   \n",
      "\n",
      "                                               reviewText  overall  \\\n",
      "627724  I had this same comb and brush set for my daug...      1.0   \n",
      "\n",
      "                summary  unixReviewTime   reviewTime  \n",
      "627724  Not as pictured      1392595200  02 17, 2014  \n"
     ]
    }
   ],
   "source": [
    "print(test)"
   ]
  },
  {
   "cell_type": "code",
   "execution_count": null,
   "metadata": {},
   "outputs": [],
   "source": []
  }
 ],
 "metadata": {
  "kernelspec": {
   "display_name": "Python 3",
   "language": "python",
   "name": "python3"
  },
  "language_info": {
   "codemirror_mode": {
    "name": "ipython",
    "version": 3
   },
   "file_extension": ".py",
   "mimetype": "text/x-python",
   "name": "python",
   "nbconvert_exporter": "python",
   "pygments_lexer": "ipython3",
   "version": "3.6.4"
  }
 },
 "nbformat": 4,
 "nbformat_minor": 2
}
