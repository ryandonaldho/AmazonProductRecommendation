{
 "cells": [
  {
   "cell_type": "code",
   "execution_count": 1,
   "metadata": {
    "scrolled": true
   },
   "outputs": [
    {
     "name": "stdout",
     "output_type": "stream",
     "text": [
      "Number of users = 826767 | Number of items = 50210\n"
     ]
    }
   ],
   "source": [
    "import pandas as pd\n",
    "\n",
    "header = [\"reviewerId\",\"productId\",\"rating\",\"time\"]\n",
    "df = pd.read_csv('ratings_Video_Games.csv', names=header)\n",
    "#df = pd.read_csv('item_dedup.csv', names=header)\n",
    "n_users = df.reviewerId.unique().shape[0]\n",
    "n_items = df.productId.unique().shape[0]\n",
    "print ('Number of users = ' + str(n_users) + ' | Number of items = ' + str(n_items))\n",
    "\n"
   ]
  },
  {
   "cell_type": "code",
   "execution_count": 2,
   "metadata": {},
   "outputs": [
    {
     "name": "stdout",
     "output_type": "stream",
     "text": [
      "[[b'AB9S9279OZ3QO' b'0078764343' b'5.0' b'1373155200']\n",
      " [b'A24SSUT5CSW8BH' b'0078764343' b'5.0' b'1377302400']\n",
      " [b'AK3V0HEBJMQ7J' b'0078764343' b'4.0' b'1372896000']\n",
      " ...\n",
      " [b'A2EHIE51TERF2C' b'B00LGBKSK4' b'5.0' b'1405900800']\n",
      " [b'A39GDUJP1737E1' b'B00LI0VTS8' b'1.0' b'1405296000']\n",
      " [b'A3LEQOLIXQU7KS' b'B00LIWF1GW' b'5.0' b'1405123200']]\n"
     ]
    },
    {
     "ename": "TypeError",
     "evalue": "no supported conversion for types: (dtype('S21'),)",
     "output_type": "error",
     "traceback": [
      "\u001b[1;31m---------------------------------------------------------------------------\u001b[0m",
      "\u001b[1;31mTypeError\u001b[0m                                 Traceback (most recent call last)",
      "\u001b[1;32m<ipython-input-2-c0f7222f703f>\u001b[0m in \u001b[0;36m<module>\u001b[1;34m()\u001b[0m\n\u001b[0;32m     15\u001b[0m \u001b[0mdense_matrix\u001b[0m \u001b[1;33m=\u001b[0m \u001b[0mnp\u001b[0m\u001b[1;33m.\u001b[0m\u001b[0marray\u001b[0m\u001b[1;33m(\u001b[0m\u001b[0mdf\u001b[0m\u001b[1;33m.\u001b[0m\u001b[0mas_matrix\u001b[0m\u001b[1;33m(\u001b[0m\u001b[0mcolumns\u001b[0m \u001b[1;33m=\u001b[0m \u001b[1;32mNone\u001b[0m\u001b[1;33m)\u001b[0m\u001b[1;33m,\u001b[0m \u001b[0mdtype\u001b[0m\u001b[1;33m=\u001b[0m\u001b[0mnp\u001b[0m\u001b[1;33m.\u001b[0m\u001b[0mstring_\u001b[0m\u001b[1;33m)\u001b[0m\u001b[1;33m.\u001b[0m\u001b[0mastype\u001b[0m\u001b[1;33m(\u001b[0m\u001b[0mnp\u001b[0m\u001b[1;33m.\u001b[0m\u001b[0mstring_\u001b[0m\u001b[1;33m)\u001b[0m\u001b[1;33m\u001b[0m\u001b[0m\n\u001b[0;32m     16\u001b[0m \u001b[0mprint\u001b[0m\u001b[1;33m(\u001b[0m\u001b[0mdense_matrix\u001b[0m\u001b[1;33m)\u001b[0m\u001b[1;33m\u001b[0m\u001b[0m\n\u001b[1;32m---> 17\u001b[1;33m \u001b[0msparse_matrix\u001b[0m \u001b[1;33m=\u001b[0m \u001b[0mcsc_matrix\u001b[0m\u001b[1;33m(\u001b[0m\u001b[0mdense_matrix\u001b[0m\u001b[1;33m)\u001b[0m\u001b[1;33m\u001b[0m\u001b[0m\n\u001b[0m\u001b[0;32m     18\u001b[0m \u001b[1;31m#data[0,0] = 1\u001b[0m\u001b[1;33m\u001b[0m\u001b[1;33m\u001b[0m\u001b[0m\n\u001b[0;32m     19\u001b[0m \u001b[1;31m#data[0,1] = 0.6\u001b[0m\u001b[1;33m\u001b[0m\u001b[1;33m\u001b[0m\u001b[0m\n",
      "\u001b[1;32m~\\Anaconda3\\lib\\site-packages\\scipy\\sparse\\compressed.py\u001b[0m in \u001b[0;36m__init__\u001b[1;34m(self, arg1, shape, dtype, copy)\u001b[0m\n\u001b[0;32m     77\u001b[0m                         self.format)\n\u001b[0;32m     78\u001b[0m             \u001b[1;32mfrom\u001b[0m \u001b[1;33m.\u001b[0m\u001b[0mcoo\u001b[0m \u001b[1;32mimport\u001b[0m \u001b[0mcoo_matrix\u001b[0m\u001b[1;33m\u001b[0m\u001b[0m\n\u001b[1;32m---> 79\u001b[1;33m             \u001b[0mself\u001b[0m\u001b[1;33m.\u001b[0m\u001b[0m_set_self\u001b[0m\u001b[1;33m(\u001b[0m\u001b[0mself\u001b[0m\u001b[1;33m.\u001b[0m\u001b[0m__class__\u001b[0m\u001b[1;33m(\u001b[0m\u001b[0mcoo_matrix\u001b[0m\u001b[1;33m(\u001b[0m\u001b[0marg1\u001b[0m\u001b[1;33m,\u001b[0m \u001b[0mdtype\u001b[0m\u001b[1;33m=\u001b[0m\u001b[0mdtype\u001b[0m\u001b[1;33m)\u001b[0m\u001b[1;33m)\u001b[0m\u001b[1;33m)\u001b[0m\u001b[1;33m\u001b[0m\u001b[0m\n\u001b[0m\u001b[0;32m     80\u001b[0m \u001b[1;33m\u001b[0m\u001b[0m\n\u001b[0;32m     81\u001b[0m         \u001b[1;31m# Read matrix dimensions given, if any\u001b[0m\u001b[1;33m\u001b[0m\u001b[1;33m\u001b[0m\u001b[0m\n",
      "\u001b[1;32m~\\Anaconda3\\lib\\site-packages\\scipy\\sparse\\compressed.py\u001b[0m in \u001b[0;36m__init__\u001b[1;34m(self, arg1, shape, dtype, copy)\u001b[0m\n\u001b[0;32m     30\u001b[0m                 \u001b[0marg1\u001b[0m \u001b[1;33m=\u001b[0m \u001b[0marg1\u001b[0m\u001b[1;33m.\u001b[0m\u001b[0mcopy\u001b[0m\u001b[1;33m(\u001b[0m\u001b[1;33m)\u001b[0m\u001b[1;33m\u001b[0m\u001b[0m\n\u001b[0;32m     31\u001b[0m             \u001b[1;32melse\u001b[0m\u001b[1;33m:\u001b[0m\u001b[1;33m\u001b[0m\u001b[0m\n\u001b[1;32m---> 32\u001b[1;33m                 \u001b[0marg1\u001b[0m \u001b[1;33m=\u001b[0m \u001b[0marg1\u001b[0m\u001b[1;33m.\u001b[0m\u001b[0masformat\u001b[0m\u001b[1;33m(\u001b[0m\u001b[0mself\u001b[0m\u001b[1;33m.\u001b[0m\u001b[0mformat\u001b[0m\u001b[1;33m)\u001b[0m\u001b[1;33m\u001b[0m\u001b[0m\n\u001b[0m\u001b[0;32m     33\u001b[0m             \u001b[0mself\u001b[0m\u001b[1;33m.\u001b[0m\u001b[0m_set_self\u001b[0m\u001b[1;33m(\u001b[0m\u001b[0marg1\u001b[0m\u001b[1;33m)\u001b[0m\u001b[1;33m\u001b[0m\u001b[0m\n\u001b[0;32m     34\u001b[0m \u001b[1;33m\u001b[0m\u001b[0m\n",
      "\u001b[1;32m~\\Anaconda3\\lib\\site-packages\\scipy\\sparse\\base.py\u001b[0m in \u001b[0;36masformat\u001b[1;34m(self, format)\u001b[0m\n\u001b[0;32m    285\u001b[0m             \u001b[1;32mreturn\u001b[0m \u001b[0mself\u001b[0m\u001b[1;33m\u001b[0m\u001b[0m\n\u001b[0;32m    286\u001b[0m         \u001b[1;32melse\u001b[0m\u001b[1;33m:\u001b[0m\u001b[1;33m\u001b[0m\u001b[0m\n\u001b[1;32m--> 287\u001b[1;33m             \u001b[1;32mreturn\u001b[0m \u001b[0mgetattr\u001b[0m\u001b[1;33m(\u001b[0m\u001b[0mself\u001b[0m\u001b[1;33m,\u001b[0m \u001b[1;34m'to'\u001b[0m \u001b[1;33m+\u001b[0m \u001b[0mformat\u001b[0m\u001b[1;33m)\u001b[0m\u001b[1;33m(\u001b[0m\u001b[1;33m)\u001b[0m\u001b[1;33m\u001b[0m\u001b[0m\n\u001b[0m\u001b[0;32m    288\u001b[0m \u001b[1;33m\u001b[0m\u001b[0m\n\u001b[0;32m    289\u001b[0m     \u001b[1;31m###################################################################\u001b[0m\u001b[1;33m\u001b[0m\u001b[1;33m\u001b[0m\u001b[0m\n",
      "\u001b[1;32m~\\Anaconda3\\lib\\site-packages\\scipy\\sparse\\coo.py\u001b[0m in \u001b[0;36mtocsc\u001b[1;34m(self, copy)\u001b[0m\n\u001b[0;32m    298\u001b[0m             \u001b[0mindptr\u001b[0m \u001b[1;33m=\u001b[0m \u001b[0mnp\u001b[0m\u001b[1;33m.\u001b[0m\u001b[0mempty\u001b[0m\u001b[1;33m(\u001b[0m\u001b[0mN\u001b[0m \u001b[1;33m+\u001b[0m \u001b[1;36m1\u001b[0m\u001b[1;33m,\u001b[0m \u001b[0mdtype\u001b[0m\u001b[1;33m=\u001b[0m\u001b[0midx_dtype\u001b[0m\u001b[1;33m)\u001b[0m\u001b[1;33m\u001b[0m\u001b[0m\n\u001b[0;32m    299\u001b[0m             \u001b[0mindices\u001b[0m \u001b[1;33m=\u001b[0m \u001b[0mnp\u001b[0m\u001b[1;33m.\u001b[0m\u001b[0mempty_like\u001b[0m\u001b[1;33m(\u001b[0m\u001b[0mrow\u001b[0m\u001b[1;33m,\u001b[0m \u001b[0mdtype\u001b[0m\u001b[1;33m=\u001b[0m\u001b[0midx_dtype\u001b[0m\u001b[1;33m)\u001b[0m\u001b[1;33m\u001b[0m\u001b[0m\n\u001b[1;32m--> 300\u001b[1;33m             \u001b[0mdata\u001b[0m \u001b[1;33m=\u001b[0m \u001b[0mnp\u001b[0m\u001b[1;33m.\u001b[0m\u001b[0mempty_like\u001b[0m\u001b[1;33m(\u001b[0m\u001b[0mself\u001b[0m\u001b[1;33m.\u001b[0m\u001b[0mdata\u001b[0m\u001b[1;33m,\u001b[0m \u001b[0mdtype\u001b[0m\u001b[1;33m=\u001b[0m\u001b[0mupcast\u001b[0m\u001b[1;33m(\u001b[0m\u001b[0mself\u001b[0m\u001b[1;33m.\u001b[0m\u001b[0mdtype\u001b[0m\u001b[1;33m)\u001b[0m\u001b[1;33m)\u001b[0m\u001b[1;33m\u001b[0m\u001b[0m\n\u001b[0m\u001b[0;32m    301\u001b[0m \u001b[1;33m\u001b[0m\u001b[0m\n\u001b[0;32m    302\u001b[0m             coo_tocsr(N, M, self.nnz, col, row, self.data,\n",
      "\u001b[1;32m~\\Anaconda3\\lib\\site-packages\\scipy\\sparse\\sputils.py\u001b[0m in \u001b[0;36mupcast\u001b[1;34m(*args)\u001b[0m\n\u001b[0;32m     49\u001b[0m             \u001b[1;32mreturn\u001b[0m \u001b[0mt\u001b[0m\u001b[1;33m\u001b[0m\u001b[0m\n\u001b[0;32m     50\u001b[0m \u001b[1;33m\u001b[0m\u001b[0m\n\u001b[1;32m---> 51\u001b[1;33m     \u001b[1;32mraise\u001b[0m \u001b[0mTypeError\u001b[0m\u001b[1;33m(\u001b[0m\u001b[1;34m'no supported conversion for types: %r'\u001b[0m \u001b[1;33m%\u001b[0m \u001b[1;33m(\u001b[0m\u001b[0margs\u001b[0m\u001b[1;33m,\u001b[0m\u001b[1;33m)\u001b[0m\u001b[1;33m)\u001b[0m\u001b[1;33m\u001b[0m\u001b[0m\n\u001b[0m\u001b[0;32m     52\u001b[0m \u001b[1;33m\u001b[0m\u001b[0m\n\u001b[0;32m     53\u001b[0m \u001b[1;33m\u001b[0m\u001b[0m\n",
      "\u001b[1;31mTypeError\u001b[0m: no supported conversion for types: (dtype('S21'),)"
     ]
    }
   ],
   "source": [
    "from sklearn import model_selection as cv\n",
    "from scipy.sparse import dok_matrix\n",
    "train_data, test_data = cv.train_test_split(df, test_size=0.99)\n",
    "\n",
    "\n",
    "len(df)\n",
    "#print(train_data)\n",
    "\n",
    "import numpy as np\n",
    "from scipy.sparse import csc_matrix\n",
    "#train_data_matrix = bsr_matrix((n_users, n_items))\n",
    "#print(train_data_matrix.shape)\n",
    "#train_data_matrix = csc_matrix((n_users,n_items), dtype=np.string_)\n",
    "#train_data_matrix = lil_matrix((n_users,n_items), dtype=np.string_)\n",
    "dense_matrix = np.array(df.as_matrix(columns = None), dtype=np.string_).astype(np.string_)\n",
    "print(dense_matrix)\n",
    "sparse_matrix = csc_matrix(dense_matrix)\n",
    "#data[0,0] = 1\n",
    "#data[0,1] = 0.6\n",
    "#train_data_matrix = np.zeros((n_users, n_items))\n",
    "#for line in train_data.itertuples():\n",
    "    #train_data_matrix[line[1], line[2]] = line[3]\n",
    "#    train_data_matrix[line[1],line[2]] =line[3]\n",
    "    #print(line[3])\n"
   ]
  },
  {
   "cell_type": "raw",
   "metadata": {},
   "source": [
    "print (train_data_matrix[0][0])"
   ]
  },
  {
   "cell_type": "code",
   "execution_count": null,
   "metadata": {},
   "outputs": [],
   "source": [
    "import csv, pickle\n",
    "from sklearn import model_selection as cv\n",
    "from collections import defaultdict\n",
    "\n",
    "data1 = defaultdict(dict)\n",
    "\n",
    "\n",
    "with open('ratings_Video_games.csv') as csvfile:\n",
    "    \n",
    "    data = csv.reader(csvfile)\n",
    "    \n",
    "    \n",
    "    \n",
    "    for rows in data:\n",
    "        data1[rows[0]][rows[1]] = rows[2]\n",
    "        #print(rows[0])\n",
    "        \n",
    "    print(data1['A2EHIE51TERF2C'])\n",
    "    \n",
    "    pickle.dump(data1, open('Video_games.dict', 'wb'))"
   ]
  },
  {
   "cell_type": "code",
   "execution_count": null,
   "metadata": {},
   "outputs": [],
   "source": [
    "\n",
    "a = open('Video_games.dict','rb')\n",
    "\n",
    "b = pickle.load(a)\n",
    "\n",
    "print(b['A2EHIE51TERF2C'])"
   ]
  },
  {
   "cell_type": "code",
   "execution_count": 12,
   "metadata": {},
   "outputs": [
    {
     "name": "stdout",
     "output_type": "stream",
     "text": [
      "Number of users = 826767 | Number of items = 50210\n",
      "5000\n",
      "826766\n"
     ]
    }
   ],
   "source": [
    "#start here\n",
    "import pandas as pd\n",
    "from scipy import sparse\n",
    "from collections import defaultdict\n",
    "from scipy.sparse import lil_matrix \n",
    "\n",
    "header = [\"reviewerId\",\"productId\",\"rating\",\"time\"]\n",
    "df = pd.read_csv('ratings_Video_Games.csv', names=header)\n",
    "#df = pd.read_csv('item_dedup.csv', names=header)\n",
    "n_users = df.reviewerId.unique().shape[0]\n",
    "n_items = df.productId.unique().shape[0]\n",
    "print ('Number of users = ' + str(n_users) + ' | Number of items = ' + str(n_items))\n",
    "\n",
    "\n",
    "# Create dict for product id \n",
    "#df.productId.unique()\n",
    "productDict = defaultdict(dict)\n",
    "count = 0\n",
    "for id in df.productId.unique():\n",
    "        productDict[id] = count\n",
    "        count += 1\n",
    "        \n",
    "userDict = defaultdict(dict)\n",
    "count = 0\n",
    "for id in df.reviewerId.unique():\n",
    "        userDict[id] = count\n",
    "        count += 1\n",
    "        \n",
    "print(productDict['B00004XOLO'])\n",
    "print(userDict['A2EHIE51TERF2C'])\n",
    "        "
   ]
  },
  {
   "cell_type": "code",
   "execution_count": 13,
   "metadata": {},
   "outputs": [
    {
     "data": {
      "text/plain": [
       "<bound method lil_matrix.getnnz of <23013x10058 sparse matrix of type '<class 'numpy.float64'>'\n",
       "\twith 23845 stored elements in LInked List format>>"
      ]
     },
     "execution_count": 13,
     "metadata": {},
     "output_type": "execute_result"
    }
   ],
   "source": [
    "mat.getnnz"
   ]
  },
  {
   "cell_type": "code",
   "execution_count": 10,
   "metadata": {},
   "outputs": [
    {
     "name": "stdout",
     "output_type": "stream",
     "text": [
      "23013\n",
      "10058\n",
      "<bound method lil_matrix.getnnz of <23013x10058 sparse matrix of type '<class 'numpy.float64'>'\n",
      "\twith 23845 stored elements in LInked List format>>\n",
      "done\n"
     ]
    }
   ],
   "source": [
    "from sklearn import model_selection as cv\n",
    "train_data, test_data = cv.train_test_split(df, test_size=0.982)\n",
    "\n",
    "\n",
    "# Create dict for product id \n",
    "#df.productId.unique()\n",
    "productDict = defaultdict(dict)\n",
    "userDict = defaultdict(dict)\n",
    "count = 0\n",
    "\n",
    "\n",
    "for id in train_data.reviewerId.unique():\n",
    "    userDict[id] = count\n",
    "    count += 1\n",
    "\n",
    "count = 0\n",
    "for id in train_data.productId.unique():\n",
    "    productDict[id] = count\n",
    "    count += 1\n",
    "\n",
    "    \n",
    "\n",
    "#for line in train_data.itertuples():\n",
    "#    userDict[(line[1])] = count\n",
    "#    productDict[(line[2])] = count\n",
    "#    count += 1\n",
    "\n",
    "n_users = len(userDict)\n",
    "n_items = len(productDict)\n",
    "\n",
    "print(n_users)\n",
    "print(n_items)\n",
    "        \n",
    "#print(productDict['B00004XOLO'])\n",
    "#print(userDict['A2EHIE51TERF2C'])\n",
    "\n",
    "mat = lil_matrix((n_users, n_items))\n",
    "\n",
    "\n",
    "for line in train_data.itertuples():\n",
    "    mat[userDict[line[1]],productDict[line[2]]] = line[3]\n",
    "\n",
    "print(mat.getnnz)\n",
    "print(\"done\")\n"
   ]
  },
  {
   "cell_type": "code",
   "execution_count": 11,
   "metadata": {},
   "outputs": [
    {
     "name": "stdout",
     "output_type": "stream",
     "text": [
      "done\n"
     ]
    }
   ],
   "source": [
    "from sklearn.metrics.pairwise import pairwise_distances\n",
    "user_similarity = pairwise_distances(mat, metric='cosine')\n",
    "print(\"done\")"
   ]
  },
  {
   "cell_type": "code",
   "execution_count": null,
   "metadata": {},
   "outputs": [],
   "source": []
  },
  {
   "cell_type": "code",
   "execution_count": null,
   "metadata": {},
   "outputs": [],
   "source": []
  }
 ],
 "metadata": {
  "kernelspec": {
   "display_name": "Python 3",
   "language": "python",
   "name": "python3"
  },
  "language_info": {
   "codemirror_mode": {
    "name": "ipython",
    "version": 3
   },
   "file_extension": ".py",
   "mimetype": "text/x-python",
   "name": "python",
   "nbconvert_exporter": "python",
   "pygments_lexer": "ipython3",
   "version": "3.6.4"
  }
 },
 "nbformat": 4,
 "nbformat_minor": 2
}
