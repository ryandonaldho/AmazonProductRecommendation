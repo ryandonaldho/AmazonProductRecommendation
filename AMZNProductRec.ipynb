{
 "cells": [
  {
   "cell_type": "code",
   "execution_count": 4,
   "metadata": {
    "scrolled": true
   },
   "outputs": [
    {
     "name": "stdout",
     "output_type": "stream",
     "text": [
      "here\n",
      "done\n"
     ]
    }
   ],
   "source": [
    "import pandas as pd\n",
    "import gzip\n",
    "\n",
    "def parse(path):\n",
    "  g = gzip.open(path, 'rb')\n",
    "  for l in g:\n",
    "    yield eval(l)\n",
    "\n",
    "def getDF(path):\n",
    "  i = 0\n",
    "  df = {}\n",
    "  for d in parse(path):\n",
    "    df[i] = d\n",
    "    i += 1\n",
    "  return pd.DataFrame.from_dict(df, orient='index')\n",
    "\n",
    "print(\"here\")\n",
    "pd.options.display.max_colwidth\n",
    "df = getDF('reviews_Video_Games_5.json.gz')\n",
    "\n",
    "listofIDs = df.reviewerID.unique()\n",
    "print(\"done\")\n",
    "#print(\"here\")\n",
    "#print(df.loc[df['reviewerID'] == 'A3B7EJRATV46WS'])"
   ]
  },
  {
   "cell_type": "code",
   "execution_count": null,
   "metadata": {},
   "outputs": [],
   "source": [
    "print(listofIDs[330])\n",
    "print(len(listofIDs))"
   ]
  },
  {
   "cell_type": "code",
   "execution_count": null,
   "metadata": {},
   "outputs": [],
   "source": [
    "#for id in listofIDs:\n",
    "    #print(df.loc[df['reviewerID'] == id])"
   ]
  },
  {
   "cell_type": "code",
   "execution_count": null,
   "metadata": {},
   "outputs": [],
   "source": [
    "print(df.loc[df['reviewerID'] == 'A1EM14EC8RPJ1B'])"
   ]
  },
  {
   "cell_type": "code",
   "execution_count": null,
   "metadata": {},
   "outputs": [],
   "source": [
    "test = df.loc[df['reviewerID'] == 'AX0M1Z6ZWO52J']\n"
   ]
  },
  {
   "cell_type": "code",
   "execution_count": null,
   "metadata": {},
   "outputs": [],
   "source": [
    "print(listofIDs[100])"
   ]
  },
  {
   "cell_type": "code",
   "execution_count": null,
   "metadata": {},
   "outputs": [],
   "source": [
    "# search product by asin\n",
    "test = df.loc[df['asin'] == 'B004J7ZLZO']\n"
   ]
  },
  {
   "cell_type": "code",
   "execution_count": null,
   "metadata": {},
   "outputs": [],
   "source": [
    "print(test)"
   ]
  },
  {
   "cell_type": "code",
   "execution_count": null,
   "metadata": {},
   "outputs": [],
   "source": [
    "print(test[\"reviewText\"])"
   ]
  },
  {
   "cell_type": "code",
   "execution_count": null,
   "metadata": {},
   "outputs": [],
   "source": [
    "test = df.loc[df['reviewerID'] == 'ANHR93SS8OMO7']"
   ]
  },
  {
   "cell_type": "code",
   "execution_count": null,
   "metadata": {},
   "outputs": [],
   "source": [
    "print(test)"
   ]
  },
  {
   "cell_type": "code",
   "execution_count": 15,
   "metadata": {},
   "outputs": [],
   "source": [
    "header = [\"reviewerId\",\"productId\",\"rating\",\"time\"]\n",
    "df = pd.read_csv('ratings_Video_Games.csv', names=header)\n",
    "#df = pd.read_csv('item_dedup.csv', names=header)\n",
    "n_users = df.reviewerId.unique().shape[0]\n",
    "n_items = df.productId.unique().shape[0]\n",
    "#df = pd.read_csv('ml-100k/u.data', sep='\\t', names=header)\n",
    "#print(test)\n",
    "#test[test.columns[0]].unique()\n",
    "#print(len(test[test.columns[0]].unique()))\n",
    "#lol = test.loc[test[test.columns[0]] == \"A3PG9EEZMT9CJF\"]\n",
    "#print(lol)"
   ]
  },
  {
   "cell_type": "code",
   "execution_count": 7,
   "metadata": {},
   "outputs": [
    {
     "name": "stdout",
     "output_type": "stream",
     "text": [
      "Number of users = 826767 | Number of items = 50210\n"
     ]
    }
   ],
   "source": [
    "print ('Number of users = ' + str(n_users) + ' | Number of items = ' + str(n_items))"
   ]
  },
  {
   "cell_type": "code",
   "execution_count": 21,
   "metadata": {},
   "outputs": [],
   "source": [
    "from sklearn import model_selection as cv\n",
    "train_data, test_data = cv.train_test_split(df, test_size=0.99)\n"
   ]
  },
  {
   "cell_type": "raw",
   "metadata": {},
   "source": []
  },
  {
   "cell_type": "code",
   "execution_count": 22,
   "metadata": {},
   "outputs": [
    {
     "name": "stdout",
     "output_type": "stream",
     "text": [
      "             reviewerId   productId  rating        time\n",
      "1110710  A1Y1FYPOVSVQE3  B008OSDFXY     5.0  1363651200\n",
      "272035    A74I7J86SW3ZI  B000B63RSA     5.0  1390867200\n",
      "193901   A39JO6U2VF8ZKI  B00012TIW8     4.0  1081900800\n",
      "711146   A22N2CGFPAHVR4  B002ST7AEU     4.0  1396828800\n",
      "610259    A6BXWNV0RYHGB  B00292OW1U     5.0  1389398400\n",
      "550079   A3J0AZ4NE3JVB8  B001FEO74U     5.0  1238457600\n",
      "405955   A2JF4H8JFWMFM8  B000RI17CA     3.0  1311379200\n",
      "877919    AQ2UNDFRD214A  B004JQTAB6     1.0  1361404800\n",
      "87315    A16SQ48UT78XFC  B00005ME4Y     3.0  1008288000\n",
      "439511   A3CL5QDI4RPOYN  B000W5UNLY     5.0  1206316800\n",
      "98228    A3T69IBOWPD81S  B00005NZ1T     1.0  1008115200\n",
      "825698   A2CEWEWVABRBZU  B003ZSP0WW     5.0  1358294400\n",
      "256385   A3C9EA3U3VPV4G  B0009VXBAQ     4.0  1164067200\n",
      "964228   A3AQO5EWSWRKU3  B0054IUWSI     2.0  1321401600\n",
      "1115965   AZ1KB1MGA2KCI  B008U2XE8A     5.0  1385942400\n",
      "830015   A2Z7VDDSFVAQQS  B0041HROGG     1.0  1297382400\n",
      "469755   A1ALD09SAYLVYI  B0012RZGVI     4.0  1213920000\n",
      "210900   A3OOJQQXEIGC7X  B0002A6CQ4     5.0  1405296000\n",
      "576181   A284G0USWVR63Y  B001P5HM64     4.0  1252108800\n",
      "1052614  A2SDOCSBPM9XNW  B007NUQIGK     5.0  1377820800\n",
      "1005151  A3CUIMDGLVUH48  B005WLRO4M     5.0  1356566400\n",
      "343329   A3QQU0665R5YYK  B000HQBZOM     5.0  1169856000\n",
      "1075060   AJL5Q8QVONET6  B008277M0Y     5.0  1360108800\n",
      "755192   A1XMOTO9VX93M8  B003GSZAOY     5.0  1365033600\n",
      "777867    AYMQXRCM08CUN  B003O6E986     5.0  1337299200\n",
      "1038907  A21V48YH0BAYI5  B007A5WCCC     5.0  1396828800\n",
      "285218   A15Y29JS8FKMOQ  B000BKYR0I     5.0  1152316800\n",
      "124721    AYSYKQUGPDXOW  B000066TS5     5.0  1308441600\n",
      "758519   A2ZCQKIB5SUEHS  B003ITY90M     1.0  1289865600\n",
      "580483   A15A3OUF5KX9AL  B001R2IMDC     5.0  1262995200\n",
      "...                 ...         ...     ...         ...\n",
      "339197   A3VOLIY0OAHUQ8  B000HCMR8E     2.0  1171497600\n",
      "732431    AOBGECLBBIBY3  B0032MM2P4     5.0  1378339200\n",
      "992274   A2FSGYR2UOI42S  B005IWCDXC     5.0  1391558400\n",
      "380531   A179MCWQBXYA1S  B000O5DPJE     1.0  1188950400\n",
      "970523   A2HEH3S3GDSD4O  B0055SWM08     4.0  1334016000\n",
      "547761   A3T6CRXTZL3DCE  B001F0J70I     5.0  1397347200\n",
      "985225   A10S4K4JHZ7PJY  B005EQE0YM     5.0  1332115200\n",
      "1190037  A3R0ZE8JR810T3  B00BGDEK9C     5.0  1372982400\n",
      "487258   A1LZGTBCW6B6WS  B0015RRHTO     4.0  1264809600\n",
      "1100481  A2FZ9KDP0EKB6N  B008GEH8LQ     4.0  1389312000\n",
      "359089   A1MO22O4S3AFNP  B000KIV7Z4     5.0  1355270400\n",
      "918843   A12GIOKE26ZFKJ  B00509CH02     5.0  1392076800\n",
      "44684    A2A0A77SN5ZXJ2  B00004RC2V     4.0  1344211200\n",
      "1276707   ASCVROP6JOTT8  B00EF1OGOG     5.0  1391385600\n",
      "471516    A5MJ3MMH04TXZ  B00139PR9G     5.0  1216080000\n",
      "547990    ARDL6SVANGVCS  B001F5VBRK     1.0  1305849600\n",
      "916298   A24QX5VFOWHBRZ  B00503E8S2     1.0  1331424000\n",
      "1079116   ACU6SIAHYQK70  B0085L2T14     1.0  1369785600\n",
      "309109    AZLSCM16ASWSC  B000FKBCX4     1.0  1220832000\n",
      "59190    A29BQ6B90Y1R5F  B00004UDVL     4.0  1354320000\n",
      "267790   A3W2CAHSSYEBGT  B000AOEUPC     3.0  1160697600\n",
      "262549   A39BL1D5OVH44V  B000A0IBLK     5.0  1391126400\n",
      "661032   A1Y9VPE2SVKRJM  B002I0H0DA     2.0  1365379200\n",
      "1215257  A3GLXQFT7EYEAX  B00CMQTVK0     5.0  1385078400\n",
      "101705   A3T1WIKGC8WAAH  B00005OUKK     5.0  1002844800\n",
      "647528   A34E72HYM2OEAM  B002GCFI2K     1.0  1375920000\n",
      "134145   A12WORQDAY04PP  B00006BMQB     2.0  1071360000\n",
      "604361   A2AKNU034UPD2O  B0026EGO3A     5.0  1348704000\n",
      "1305949  A2BAHJC7HW1RVK  B00GE2JC9S     5.0  1405814400\n",
      "988991   A1WYVY5QS8ORLN  B005FYK2QI     4.0  1379030400\n",
      "\n",
      "[13247 rows x 4 columns]\n"
     ]
    }
   ],
   "source": [
    "len(df)\n",
    "print(train_data)"
   ]
  },
  {
   "cell_type": "code",
   "execution_count": 26,
   "metadata": {},
   "outputs": [
    {
     "ename": "TypeError",
     "evalue": "object of type 'int' has no len()",
     "output_type": "error",
     "traceback": [
      "\u001b[1;31m---------------------------------------------------------------------------\u001b[0m",
      "\u001b[1;31mTypeError\u001b[0m                                 Traceback (most recent call last)",
      "\u001b[1;32m<ipython-input-26-050570fc9a43>\u001b[0m in \u001b[0;36m<module>\u001b[1;34m()\u001b[0m\n\u001b[0;32m      1\u001b[0m \u001b[1;32mimport\u001b[0m \u001b[0mnumpy\u001b[0m \u001b[1;32mas\u001b[0m \u001b[0mnp\u001b[0m\u001b[1;33m\u001b[0m\u001b[0m\n\u001b[0;32m      2\u001b[0m \u001b[1;32mfrom\u001b[0m \u001b[0mscipy\u001b[0m\u001b[1;33m.\u001b[0m\u001b[0msparse\u001b[0m\u001b[1;33m.\u001b[0m\u001b[0mdok\u001b[0m \u001b[1;32mimport\u001b[0m \u001b[0mdok_matrix\u001b[0m\u001b[1;33m\u001b[0m\u001b[0m\n\u001b[1;32m----> 3\u001b[1;33m \u001b[0mBigrams\u001b[0m \u001b[1;33m=\u001b[0m \u001b[0mdok_matrix\u001b[0m\u001b[1;33m(\u001b[0m\u001b[0mlen\u001b[0m\u001b[1;33m(\u001b[0m\u001b[0mn_users\u001b[0m\u001b[1;33m)\u001b[0m\u001b[1;33m,\u001b[0m \u001b[0mlen\u001b[0m\u001b[1;33m(\u001b[0m\u001b[0mn_items\u001b[0m\u001b[1;33m)\u001b[0m\u001b[1;33m)\u001b[0m\u001b[1;33m\u001b[0m\u001b[0m\n\u001b[0m\u001b[0;32m      4\u001b[0m \u001b[1;31m#train_data_matrix = np.zeros((n_users, n_items))\u001b[0m\u001b[1;33m\u001b[0m\u001b[1;33m\u001b[0m\u001b[0m\n\u001b[0;32m      5\u001b[0m \u001b[1;31m#for line in train_data.itertuples():\u001b[0m\u001b[1;33m\u001b[0m\u001b[1;33m\u001b[0m\u001b[0m\n",
      "\u001b[1;31mTypeError\u001b[0m: object of type 'int' has no len()"
     ]
    }
   ],
   "source": [
    "import numpy as np\n",
    "from scipy.sparse.dok import dok_matrix\n",
    "# memory error\n",
    "#train_data_matrix = np.zeros((n_users, n_items))\n",
    "#for line in train_data.itertuples():\n",
    "#    train_data_matrix[line[1]-1, line[2]-1] = line[3]\n"
   ]
  },
  {
   "cell_type": "code",
   "execution_count": null,
   "metadata": {},
   "outputs": [],
   "source": []
  },
  {
   "cell_type": "code",
   "execution_count": null,
   "metadata": {},
   "outputs": [],
   "source": []
  }
 ],
 "metadata": {
  "kernelspec": {
   "display_name": "Python 3",
   "language": "python",
   "name": "python3"
  },
  "language_info": {
   "codemirror_mode": {
    "name": "ipython",
    "version": 3
   },
   "file_extension": ".py",
   "mimetype": "text/x-python",
   "name": "python",
   "nbconvert_exporter": "python",
   "pygments_lexer": "ipython3",
   "version": "3.6.4"
  }
 },
 "nbformat": 4,
 "nbformat_minor": 2
}
