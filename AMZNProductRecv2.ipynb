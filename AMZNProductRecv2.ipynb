{
 "cells": [
  {
   "cell_type": "code",
   "execution_count": 45,
   "metadata": {},
   "outputs": [
    {
     "name": "stdout",
     "output_type": "stream",
     "text": [
      "Number of users = 826767 | Number of items = 50210\n",
      "<bound method lil_matrix.getnnz of <761949x49096 sparse matrix of type '<class 'numpy.float64'>'\n",
      "\twith 1192277 stored elements in LInked List format>>\n",
      "done\n"
     ]
    }
   ],
   "source": [
    "#start here\n",
    "import pandas as pd\n",
    "from scipy import sparse\n",
    "from collections import defaultdict\n",
    "from scipy import sparse\n",
    "from sklearn import model_selection as cv\n",
    "\n",
    "header = [\"reviewerId\",\"productId\",\"rating\",\"time\"]\n",
    "df = pd.read_csv('ratings_Video_Games.csv', names=header)\n",
    "#df = pd.read_csv('item_dedup.csv', names=header)\n",
    "n_users = df.reviewerId.unique().shape[0]\n",
    "n_items = df.productId.unique().shape[0]\n",
    "print ('Number of users = ' + str(n_users) + ' | Number of items = ' + str(n_items))\n",
    "\n",
    "\n",
    "train_data, test_data = cv.train_test_split(df, test_size=0.10)\n",
    "\n",
    "# Create dict for product id \n",
    "#df.productId.unique()\n",
    "productDict = defaultdict(dict)\n",
    "userDict = defaultdict(dict)\n",
    "count = 0\n",
    "\n",
    "\n",
    "for id in train_data.reviewerId.unique():\n",
    "    userDict[id] = count\n",
    "    count += 1\n",
    "\n",
    "count = 0\n",
    "for id in train_data.productId.unique():\n",
    "    productDict[id] = count\n",
    "    count += 1\n",
    "    \n",
    "n_users = len(userDict)\n",
    "n_items = len(productDict)\n",
    "\n",
    "mat = sparse.lil_matrix((n_users, n_items))\n",
    "        \n",
    "#print(productDict['B00004XOLO'])\n",
    "#print(userDict['A2EHIE51TERF2C'])\n",
    "\n",
    "for line in train_data.itertuples():\n",
    "    mat[userDict[line[1]],productDict[line[2]]] = line[3]\n",
    "\n",
    "print(mat.getnnz)\n",
    "print(\"done\")\n",
    "\n",
    "\n",
    "        "
   ]
  },
  {
   "cell_type": "code",
   "execution_count": 50,
   "metadata": {},
   "outputs": [
    {
     "name": "stdout",
     "output_type": "stream",
     "text": [
      "done\n"
     ]
    }
   ],
   "source": [
    "from sklearn.metrics.pairwise import pairwise_distances\n",
    "from sklearn.metrics.pairwise import cosine_similarity\n",
    "#user_similarity = pairwise_distances(mat, metric='cosine')\n",
    "print(\"done\")"
   ]
  },
  {
   "cell_type": "code",
   "execution_count": 54,
   "metadata": {},
   "outputs": [
    {
     "name": "stdout",
     "output_type": "stream",
     "text": [
      "  (0, 1)\t5.0\n",
      "space\n",
      "  (0, 1002)\t1.0\n",
      "[[0.]]\n"
     ]
    }
   ],
   "source": [
    "\n",
    "new_data1 = mat.getrow(1)\n",
    "new_data2 = mat.getrow(12000)\n",
    "print(new_data1)\n",
    "print(\"space\")\n",
    "print(new_data2)\n",
    "#user_similarity = pairwise_distances(new_data1,new_data2, metric='cosine')\n",
    "user_similarity = cosine_similarity(new_data1,new_data2)\n",
    "print(user_similarity)\n",
    "\n"
   ]
  },
  {
   "cell_type": "code",
   "execution_count": null,
   "metadata": {},
   "outputs": [],
   "source": []
  }
 ],
 "metadata": {
  "kernelspec": {
   "display_name": "Python 3",
   "language": "python",
   "name": "python3"
  },
  "language_info": {
   "codemirror_mode": {
    "name": "ipython",
    "version": 3
   },
   "file_extension": ".py",
   "mimetype": "text/x-python",
   "name": "python",
   "nbconvert_exporter": "python",
   "pygments_lexer": "ipython3",
   "version": "3.6.4"
  }
 },
 "nbformat": 4,
 "nbformat_minor": 2
}
