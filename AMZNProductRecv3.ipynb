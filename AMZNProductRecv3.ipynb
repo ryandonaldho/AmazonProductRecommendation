{
 "cells": [
  {
   "cell_type": "code",
   "execution_count": 1,
   "metadata": {},
   "outputs": [
    {
     "name": "stdout",
     "output_type": "stream",
     "text": [
      "Number of users = 826767 | Number of items = 50210\n",
      "<bound method lil_matrix.getnnz of <826767x50210 sparse matrix of type '<class 'numpy.float32'>'\n",
      "\twith 1324753 stored elements in LInked List format>>\n",
      "done\n"
     ]
    }
   ],
   "source": [
    "#load data\n",
    "import pandas as pd\n",
    "from scipy import sparse\n",
    "from collections import defaultdict\n",
    "from scipy import sparse\n",
    "from sklearn import model_selection as cv\n",
    "import numpy as np\n",
    "\n",
    "header = [\"reviewerId\",\"productId\",\"rating\",\"time\"]\n",
    "df = pd.read_csv('ratings_Video_Games.csv', names=header)\n",
    "#df = pd.read_csv('item_dedup.csv', names=header)\n",
    "n_users = df.reviewerId.unique().shape[0]\n",
    "n_items = df.productId.unique().shape[0]\n",
    "print ('Number of users = ' + str(n_users) + ' | Number of items = ' + str(n_items))\n",
    "\n",
    "\n",
    "train_data, test_data = cv.train_test_split(df, test_size=0)\n",
    "\n",
    "# Create dict for product id \n",
    "#df.productId.unique()\n",
    "productDict = defaultdict(dict)\n",
    "userDict = defaultdict(dict)\n",
    "count = 0\n",
    "\n",
    "\n",
    "for id in train_data.reviewerId.unique():\n",
    "    userDict[id] = count\n",
    "    count += 1\n",
    "\n",
    "count = 0\n",
    "for id in train_data.productId.unique():\n",
    "    productDict[id] = count\n",
    "    count += 1\n",
    "    \n",
    "n_users = len(userDict)\n",
    "n_items = len(productDict)\n",
    "\n",
    "mat = sparse.lil_matrix((n_users, n_items),dtype=np.float32)\n",
    "        \n",
    "#print(productDict['B00004XOLO'])\n",
    "#print(userDict['A2EHIE51TERF2C'])\n",
    "\n",
    "\n",
    "for line in train_data.itertuples():\n",
    "    mat[userDict[line[1]],productDict[line[2]]] = line[3]\n",
    "\n",
    "print(mat.getnnz)\n",
    "print(\"done\")"
   ]
  },
  {
   "cell_type": "code",
   "execution_count": 2,
   "metadata": {},
   "outputs": [
    {
     "name": "stdout",
     "output_type": "stream",
     "text": [
      "done\n",
      "<bound method _cs_matrix.getnnz of <50210x50210 sparse matrix of type '<class 'numpy.float32'>'\n",
      "\twith 7937584 stored elements in Compressed Sparse Row format>>\n",
      "<bound method _cs_matrix.getnnz of <826767x826767 sparse matrix of type '<class 'numpy.float32'>'\n",
      "\twith 905522771 stored elements in Compressed Sparse Column format>>\n"
     ]
    }
   ],
   "source": [
    "from sklearn.metrics.pairwise import pairwise_distances\n",
    "from sklearn.metrics.pairwise import cosine_similarity\n",
    "import sklearn.preprocessing as pp\n",
    "\n",
    "def cosine_similarities(mat):\n",
    "    col_normed_mat = pp.normalize(mat, axis=0)\n",
    "    #print(col_normed_mat)\n",
    "    return col_normed_mat.T * col_normed_mat\n",
    "\n",
    "def user_cosine_similarities(mat):\n",
    "    col_normed_mat = pp.normalize(mat, axis=0)\n",
    "    #print(col_normed_mat)\n",
    "    return col_normed_mat * col_normed_mat.T\n",
    "\n",
    "\n",
    "#cosine_similarities(mat)\n",
    "test = cosine_similarities(mat)\n",
    "userMatrix = user_cosine_similarities(mat)\n",
    "#user_similarity = pairwise_distances(mat, metric='cosine')\n",
    "print(\"done\")\n",
    "print(test.getnnz)\n",
    "print(userMatrix.getnnz)\n",
    "\n",
    "\n",
    "#cx = sparse.coo_matrix(test)\n",
    "\n",
    "#for i,j,v in zip(cx.row, cx.col, cx.data):\n",
    "#        if v > 0.5:\n",
    "#            print (\"(%d, %d), %s\" % (i,j,v))\n",
    "\n"
   ]
  },
  {
   "cell_type": "code",
   "execution_count": null,
   "metadata": {},
   "outputs": [],
   "source": [
    "# https://stackoverflow.com/questions/31790819/scipy-sparse-csr-matrix-how-to-get-top-ten-values-and-indices\n",
    "#print(test[50208,40340])\n",
    "\n",
    "row = test.getrow(6565).toarray()[0].ravel()\n",
    "top_ten_indicies = row.argsort()[-6:]\n",
    "top_ten_values = row[row.argsort()[-6:]]\n",
    "\n",
    "print(top_ten_indicies)\n",
    "\n",
    "print(top_ten_values)\n",
    "\n",
    "#for x in top_ten_indicies:\n",
    "#    print(list(productDict.keys())[list(productDict.values()).index(x)])\n",
    "    \n",
    "\n",
    "\n",
    "#for x in range(0,n_items):\n",
    "#    print(x)\n",
    "#    row = test.getrow(x).toarray()[0].ravel()\n",
    "#    top_ten_values = (row[row.argsort()[-10:]])\n",
    "\n",
    "print(\"done\")\n",
    "\n",
    "\n",
    "\n",
    "#array = test.getrow(i)\n",
    "#print(array)\n"
   ]
  },
  {
   "cell_type": "code",
   "execution_count": null,
   "metadata": {},
   "outputs": [],
   "source": [
    "def getTopFiveSimiliarItems(itemId):\n",
    "    row = test.getrow(itemId).toarray()[0].ravel()\n",
    "    top_five_indicies = row.argsort()[-6:]\n",
    "    top_five_values = row[row.argsort()[-6:]]\n",
    "    print(top_five_values)\n",
    "    print(top_five_indicies)\n",
    "    for x in top_five_indicies:\n",
    "        #ignore same item\n",
    "        if (x != itemId):\n",
    "            print(list(productDict.keys())[list(productDict.values()).index(x)])\n",
    "        \n",
    "getTopFiveSimiliarItems(9331)\n",
    "getTopFiveSimiliarItems(productDict[\"B000EBC0PI\"])\n",
    "    "
   ]
  },
  {
   "cell_type": "code",
   "execution_count": null,
   "metadata": {},
   "outputs": [],
   "source": [
    "print(df.loc[df['reviewerId'] == \"A2UDD2XDPD80BH\"])\n",
    "print(\"space\")\n",
    "line = df.loc[df['reviewerId'] == \"A2UDD2XDPD80BH\"]\n",
    "\n",
    "for x in line.iterrows():\n",
    "    #print(x[1][1])\n",
    "    print(productDict[x[1][1]])\n",
    "    getTopFiveSimiliarItems(productDict[x[1][1]])\n",
    "    #print(\"======================\")\n",
    "    \n",
    "df.loc[df['reviewerId'] == \"A10RFAF1CGFKHZ\"]\n",
    "print(list(productDict.keys())[list(productDict.values()).index(9331)]) \n",
    "print(list(productDict.keys())[list(productDict.values()).index(23340)]) \n",
    "print(list(userDict.keys())[list(userDict.values()).index(76565)]) "
   ]
  }
 ],
 "metadata": {
  "kernelspec": {
   "display_name": "Python 3",
   "language": "python",
   "name": "python3"
  },
  "language_info": {
   "codemirror_mode": {
    "name": "ipython",
    "version": 3
   },
   "file_extension": ".py",
   "mimetype": "text/x-python",
   "name": "python",
   "nbconvert_exporter": "python",
   "pygments_lexer": "ipython3",
   "version": "3.6.4"
  }
 },
 "nbformat": 4,
 "nbformat_minor": 2
}
